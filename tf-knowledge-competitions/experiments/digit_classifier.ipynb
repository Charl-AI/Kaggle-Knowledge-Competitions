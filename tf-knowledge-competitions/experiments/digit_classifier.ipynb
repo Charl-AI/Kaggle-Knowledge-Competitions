{
 "cells": [
  {
   "cell_type": "markdown",
   "metadata": {},
   "source": [
    "# MNIST Digit Classifier"
   ]
  },
  {
   "cell_type": "code",
   "execution_count": 1,
   "metadata": {},
   "outputs": [
    {
     "name": "stdout",
     "output_type": "stream",
     "text": [
      "/workspaces/Kaggle-Knowledge-Competitions\n"
     ]
    }
   ],
   "source": [
    "# This cell assumes a project structure of: project-root/src/experiments/this_notebook.ipynb\n",
    "# We append the parent directory to the system path, so now we can import modules from src\n",
    "# We also create a variable named path which points to the project root.\n",
    "\n",
    "import sys\n",
    "from pathlib import Path\n",
    "\n",
    "sys.path.append(\"../\") # go to parent dir\n",
    "path =  str(Path().resolve().parent.parent)\n",
    "\n",
    "print(path)\n"
   ]
  },
  {
   "cell_type": "code",
   "execution_count": 2,
   "metadata": {},
   "outputs": [],
   "source": [
    "from dataclasses import dataclass\n",
    "\n",
    "@dataclass\n",
    "class Configurations:\n",
    "    data_dir: str = path + \"/data/kaggle_mnist\"\n",
    "    batch_size: int = 64\n",
    "\n",
    "    lr: float = 0.01\n",
    "    momentum: float = 0.01\n",
    "\n",
    "    num_epochs: int = 5\n",
    "\n",
    "    log_dir: str = path + \"/logs/tf-digit-classifier\"\n",
    "\n",
    "cfg = Configurations()"
   ]
  },
  {
   "cell_type": "code",
   "execution_count": 3,
   "metadata": {},
   "outputs": [
    {
     "name": "stderr",
     "output_type": "stream",
     "text": [
      "2022-05-19 15:51:54.856542: W tensorflow/core/kernels/data/cache_dataset_ops.cc:768] The calling iterator did not fully read the dataset being cached. In order to avoid unexpected truncation of the dataset, the partially cached contents of the dataset  will be discarded. This can happen if you have an input pipeline similar to `dataset.cache().take(k).repeat()`. You should use `dataset.take(k).cache().repeat()` instead.\n"
     ]
    },
    {
     "data": {
      "text/plain": [
       "(64, 32, 32, 1)"
      ]
     },
     "execution_count": 3,
     "metadata": {},
     "output_type": "execute_result"
    }
   ],
   "source": [
    "from datasets.kaggle_mnist import get_batched_datasets\n",
    "\n",
    "train_ds, val_ds, test_ds = get_batched_datasets(cfg.data_dir, cfg.batch_size)\n",
    "dummy_batch = next(train_ds.as_numpy_iterator())\n",
    "dummy_batch[0].shape"
   ]
  },
  {
   "cell_type": "code",
   "execution_count": 4,
   "metadata": {},
   "outputs": [
    {
     "name": "stderr",
     "output_type": "stream",
     "text": [
      "/opt/venv/lib/python3.8/site-packages/keras/engine/functional.py:1410: CustomMaskWarning: Custom mask layers require a config and must override get_config. When loading, the custom mask layer must be passed to the custom_objects argument.\n",
      "  layer_config = serialize_layer_fn(layer)\n"
     ]
    },
    {
     "name": "stdout",
     "output_type": "stream",
     "text": [
      "Epoch 1/5\n",
      "525/525 [==============================] - 26s 40ms/step - loss: 0.2915 - categorical_accuracy: 0.9102 - val_loss: 0.1097 - val_categorical_accuracy: 0.9675\n",
      "Epoch 2/5\n",
      "525/525 [==============================] - 20s 38ms/step - loss: 0.0731 - categorical_accuracy: 0.9774 - val_loss: 0.0704 - val_categorical_accuracy: 0.9789\n",
      "Epoch 3/5\n",
      "525/525 [==============================] - 21s 39ms/step - loss: 0.0237 - categorical_accuracy: 0.9929 - val_loss: 0.0556 - val_categorical_accuracy: 0.9831\n",
      "Epoch 4/5\n",
      "525/525 [==============================] - 20s 38ms/step - loss: 0.0048 - categorical_accuracy: 0.9991 - val_loss: 0.0477 - val_categorical_accuracy: 0.9857\n",
      "Epoch 5/5\n",
      "525/525 [==============================] - 20s 38ms/step - loss: 9.8798e-04 - categorical_accuracy: 1.0000 - val_loss: 0.0477 - val_categorical_accuracy: 0.9863\n"
     ]
    },
    {
     "data": {
      "text/plain": [
       "<keras.callbacks.History at 0x7f3297174940>"
      ]
     },
     "execution_count": 4,
     "metadata": {},
     "output_type": "execute_result"
    }
   ],
   "source": [
    "import keras\n",
    "import tensorflow as tf\n",
    "import tensorflow.keras as keras\n",
    "from models.digit_classifier import ResNet18\n",
    "\n",
    "model = ResNet18(classes=10, include_top=True, input_shape=(32, 32, 1))\n",
    "model.compile(\n",
    "    optimizer=keras.optimizers.SGD(learning_rate=cfg.lr, momentum=cfg.momentum),\n",
    "    loss=keras.losses.CategoricalCrossentropy(from_logits=False),\n",
    "    metrics=[keras.metrics.CategoricalAccuracy()]\n",
    ")\n",
    "\n",
    "tensorboard_callback = tf.keras.callbacks.TensorBoard(log_dir=cfg.log_dir)\n",
    "\n",
    "model.fit(train_ds, validation_data=val_ds, epochs=cfg.num_epochs, callbacks=[tensorboard_callback])"
   ]
  },
  {
   "cell_type": "code",
   "execution_count": 5,
   "metadata": {},
   "outputs": [],
   "source": [
    "import numpy as np\n",
    "logits = model.predict(test_ds)\n",
    "preds = np.argmax(logits, axis=-1)"
   ]
  },
  {
   "cell_type": "code",
   "execution_count": 6,
   "metadata": {},
   "outputs": [
    {
     "name": "stdout",
     "output_type": "stream",
     "text": [
      "6\n",
      "5\n",
      "5\n",
      "3\n",
      "1\n",
      "7\n",
      "9\n",
      "1\n",
      "4\n",
      "9\n"
     ]
    },
    {
     "data": {
      "image/png": "[encoded data removed]",
      "text/plain": [
       "<Figure size 720x360 with 10 Axes>"
      ]
     },
     "metadata": {
      "needs_background": "light"
     },
     "output_type": "display_data"
    }
   ],
   "source": [
    "import matplotlib.pyplot as plt\n",
    "import random\n",
    "test_ims = list(test_ds.unbatch().as_numpy_iterator())\n",
    "\n",
    "nrows=2\n",
    "ncols=5\n",
    "fig, axs = plt.subplots(nrows=nrows, ncols=ncols,figsize=(10,5))\n",
    "\n",
    "for i in range(nrows):\n",
    "    for j in range(ncols):\n",
    "        k = random.randint(0,28000)\n",
    "        axs[i,j].imshow(test_ims[k],cmap=\"gray\")\n",
    "        print(preds[k])"
   ]
  },
  {
   "cell_type": "markdown",
   "metadata": {},
   "source": [
    "Finally, save our predictions in the format for Kaggle submission. You can submit by running the following line:\n",
    "```bash\n",
    "# submits preds.csv to the mnist classification competition\n",
    "kaggle competitions submit -c digit-recognizer -f data/kaggle_mnist/preds.csv --message first_submission_with_api\n",
    "```"
   ]
  },
  {
   "cell_type": "code",
   "execution_count": 7,
   "metadata": {},
   "outputs": [],
   "source": [
    "import pandas as pd\n",
    "df = pd.DataFrame({\"ImageId\" : list(range(1, 28001)),\"Label\" : preds})\n",
    "df.to_csv(path+\"/data/kaggle_mnist/preds.csv\", index=False)"
   ]
  },
  {
   "cell_type": "code",
   "execution_count": null,
   "metadata": {},
   "outputs": [],
   "source": []
  }
 ],
 "metadata": {
  "interpreter": {
   "hash": "23393d2575091a37cff0d0e9e7479591a295495b26c3b2ebf9b64da572e02d85"
  },
  "kernelspec": {
   "display_name": "Python 3.8.10 64-bit ('venv': venv)",
   "language": "python",
   "name": "python3"
  },
  "language_info": {
   "codemirror_mode": {
    "name": "ipython",
    "version": 3
   },
   "file_extension": ".py",
   "mimetype": "text/x-python",
   "name": "python",
   "nbconvert_exporter": "python",
   "pygments_lexer": "ipython3",
   "version": "3.8.10"
  },
  "orig_nbformat": 4
 },
 "nbformat": 4,
 "nbformat_minor": 2
}
