{
 "cells": [
  {
   "cell_type": "markdown",
   "metadata": {},
   "source": [
    "# MNIST Digit Classifier"
   ]
  },
  {
   "cell_type": "code",
   "execution_count": 11,
   "metadata": {},
   "outputs": [
    {
     "name": "stdout",
     "output_type": "stream",
     "text": [
      "/data2/Kaggle-Knowledge-Competitions\n"
     ]
    }
   ],
   "source": [
    "# This cell assumes a project structure of: project-root/src/experiments/this_notebook.ipynb\n",
    "# We append the parent directory to the system path, so now we can import modules from src\n",
    "# We also create a variable named path which points to the project root.\n",
    "\n",
    "import sys\n",
    "from pathlib import Path\n",
    "\n",
    "sys.path.append(\"../\") # go to parent dir\n",
    "path =  str(Path().resolve().parent.parent)\n",
    "\n",
    "print(path)\n"
   ]
  },
  {
   "cell_type": "markdown",
   "metadata": {},
   "source": [
    "Class of configurations (consider using Hydra for heavier workloads in future):"
   ]
  },
  {
   "cell_type": "code",
   "execution_count": 12,
   "metadata": {},
   "outputs": [],
   "source": [
    "from dataclasses import dataclass\n",
    "\n",
    "@dataclass\n",
    "class Configurations:\n",
    "    data_dir: str = path + \"/data/kaggle_mnist\"\n",
    "    batch_size: int = 128\n",
    "    num_workers: int = 4\n",
    "\n",
    "    lr: float = 0.01\n",
    "\n",
    "    num_epochs: int = 5\n",
    "\n",
    "    device: str = \"cuda\"\n",
    "    log_dir: str = path + \"/logs/torch-digit-classifier\"\n",
    "    log_every_n_steps: int = 50\n",
    "\n",
    "cfg = Configurations()"
   ]
  },
  {
   "cell_type": "code",
   "execution_count": 13,
   "metadata": {},
   "outputs": [
    {
     "name": "stderr",
     "output_type": "stream",
     "text": [
      "Epoch 0: train: 100%|██████████| 263/263 [00:06<00:00, 39.34it/s]\n",
      "Epoch 0: val: 100%|██████████| 66/66 [00:00<00:00, 105.01it/s]\n",
      "Epoch 1: train: 100%|██████████| 263/263 [00:06<00:00, 38.56it/s]\n",
      "Epoch 1: val: 100%|██████████| 66/66 [00:00<00:00, 110.93it/s]\n",
      "Epoch 2: train: 100%|██████████| 263/263 [00:06<00:00, 38.44it/s]\n",
      "Epoch 2: val: 100%|██████████| 66/66 [00:00<00:00, 98.04it/s] \n",
      "Epoch 3: train: 100%|██████████| 263/263 [00:06<00:00, 41.36it/s]\n",
      "Epoch 3: val: 100%|██████████| 66/66 [00:00<00:00, 108.56it/s]\n",
      "Epoch 4: train: 100%|██████████| 263/263 [00:06<00:00, 37.77it/s]\n",
      "Epoch 4: val: 100%|██████████| 66/66 [00:00<00:00, 115.66it/s]\n"
     ]
    }
   ],
   "source": [
    "import torch\n",
    "import os\n",
    "from torch.utils.data import DataLoader, random_split\n",
    "from torch.utils.tensorboard.writer import SummaryWriter\n",
    "\n",
    "from trainer.digit_classifier_trainer import train_digit_classifier\n",
    "from datasets.kaggle_mnist import KaggleMNIST\n",
    "from models.digit_classifier import ResNet18\n",
    "\n",
    "import socket\n",
    "from datetime import datetime\n",
    "current_time = datetime.now().strftime('%b%d_%H-%M-%S')\n",
    "log_dir = os.path.join(\n",
    "                cfg.log_dir, current_time + '_' + socket.gethostname())\n",
    "\n",
    "device = torch.device(cfg.device)\n",
    "model = ResNet18(in_channels=1, out_classes=10)\n",
    "data = KaggleMNIST(data_dir=cfg.data_dir, train=True, transform=None)\n",
    "optimizer = torch.optim.SGD(model.parameters(), lr=cfg.lr)\n",
    "logger = SummaryWriter(log_dir=log_dir)\n",
    "\n",
    "n_val = int(len(data) * 0.2)\n",
    "n_train = len(data) - n_val\n",
    "train_data, val_data = random_split(data, [n_train, n_val])\n",
    "\n",
    "train_loader = DataLoader(\n",
    "    train_data,\n",
    "    shuffle=True,\n",
    "    batch_size=cfg.batch_size,\n",
    "    num_workers=cfg.num_workers,\n",
    ")\n",
    "\n",
    "val_loader = DataLoader(\n",
    "    val_data,\n",
    "    shuffle=False,\n",
    "    batch_size=cfg.batch_size,\n",
    "    num_workers=cfg.num_workers,\n",
    ")\n",
    "\n",
    "train_digit_classifier(\n",
    "    model,\n",
    "    train_loader,\n",
    "    val_loader,\n",
    "    num_epochs=cfg.num_epochs,\n",
    "    device=device,\n",
    "    optimizer=optimizer,\n",
    "    logger=logger,\n",
    "    log_every_n_steps=cfg.log_every_n_steps,\n",
    ")"
   ]
  },
  {
   "cell_type": "code",
   "execution_count": 14,
   "metadata": {},
   "outputs": [
    {
     "name": "stderr",
     "output_type": "stream",
     "text": [
      "Generating predictions on test set: 100%|██████████| 219/219 [00:01<00:00, 201.33it/s]\n"
     ]
    }
   ],
   "source": [
    "from trainer.digit_classifier_trainer import test_digit_classifier\n",
    "\n",
    "data = KaggleMNIST(data_dir=cfg.data_dir, train=False, transform=None)\n",
    "test_loader = DataLoader(\n",
    "    data,\n",
    "    shuffle=False,\n",
    "    batch_size=cfg.batch_size,\n",
    "    num_workers=cfg.num_workers,\n",
    ")\n",
    "\n",
    "raw_preds = test_digit_classifier(model, test_loader, device)"
   ]
  },
  {
   "cell_type": "markdown",
   "metadata": {},
   "source": [
    "Our raw prediction is currently a list of tuples representing the predictions for each batch. We want to turn this into two tensors, each the length of the test set."
   ]
  },
  {
   "cell_type": "code",
   "execution_count": 15,
   "metadata": {},
   "outputs": [],
   "source": [
    "def unpack_predictions(predictions):\n",
    "    \"\"\"Takes the output of trainer.predict and unpacks it into a tuple of two tensors\n",
    "    over the data set:\n",
    "        (imgs, predictions)\n",
    "    \"\"\"\n",
    "    # predictions start as list of tuples (img tensor, pred_tensor), of length num_batches.\n",
    "    # each tensor is 1D with length batch_size.\n",
    "    # we want to convert this to two tensors which are the length of the val/test set.\n",
    "    unpacked_imgs = torch.Tensor().to(predictions[0][0].device)\n",
    "    unpacked_predictions = torch.Tensor().to(predictions[0][0].device)\n",
    "    for batch in predictions:\n",
    "        imgs, preds = batch\n",
    "        unpacked_predictions = torch.cat([unpacked_predictions, preds], dim=0)\n",
    "        unpacked_imgs = torch.cat([unpacked_imgs, imgs], dim=0)\n",
    "\n",
    "    return  unpacked_imgs, unpacked_predictions\n",
    "\n",
    "predictions = unpack_predictions(raw_preds)"
   ]
  },
  {
   "cell_type": "markdown",
   "metadata": {},
   "source": [
    "Now, lets sanity check our predictions to see if they're reasonable:"
   ]
  },
  {
   "cell_type": "code",
   "execution_count": 16,
   "metadata": {},
   "outputs": [
    {
     "name": "stdout",
     "output_type": "stream",
     "text": [
      "0\n",
      "1\n",
      "6\n",
      "5\n",
      "1\n",
      "8\n",
      "2\n",
      "1\n",
      "1\n",
      "7\n"
     ]
    },
    {
     "data": {
      "image/png": "[encoded data removed]",
      "text/plain": [
       "<Figure size 720x360 with 10 Axes>"
      ]
     },
     "metadata": {
      "needs_background": "light"
     },
     "output_type": "display_data"
    }
   ],
   "source": [
    "import matplotlib.pyplot as plt\n",
    "import random\n",
    "\n",
    "imgs, preds = predictions\n",
    "imgs = imgs.squeeze().detach().cpu().numpy()\n",
    "preds = preds.int().squeeze().detach().cpu().numpy()\n",
    "\n",
    "nrows=2\n",
    "ncols=5\n",
    "fig, axs = plt.subplots(nrows=nrows, ncols=ncols,figsize=(10,5))\n",
    "\n",
    "for i in range(nrows):\n",
    "    for j in range(ncols):\n",
    "        k = random.randint(0,28000)\n",
    "        axs[i,j].imshow(imgs[k],cmap=\"gray\")\n",
    "        print(preds[k])\n"
   ]
  },
  {
   "cell_type": "markdown",
   "metadata": {},
   "source": [
    "Finally, save our predictions in the format for Kaggle submission. You can submit by running the following line:\n",
    "```bash\n",
    "# submits preds.csv to the mnist classification competition\n",
    "kaggle competitions submit -c digit-recognizer -f data/kaggle_mnist/preds.csv --message first_submission_with_api\n",
    "```"
   ]
  },
  {
   "cell_type": "code",
   "execution_count": 18,
   "metadata": {},
   "outputs": [],
   "source": [
    "import pandas as pd\n",
    "df = pd.DataFrame({\"ImageId\" : list(range(1, 28001)),\"Label\" : preds})\n",
    "df.to_csv(path+\"/data/kaggle_mnist/preds.csv\", index=False)"
   ]
  }
 ],
 "metadata": {
  "interpreter": {
   "hash": "fbf7f804df088307e97e62d933cb62b93da59f5af49da0e68cca6c12b68e1ce1"
  },
  "kernelspec": {
   "display_name": "Python 3.8.10 64-bit ('venv': venv)",
   "language": "python",
   "name": "python3"
  },
  "language_info": {
   "codemirror_mode": {
    "name": "ipython",
    "version": 3
   },
   "file_extension": ".py",
   "mimetype": "text/x-python",
   "name": "python",
   "nbconvert_exporter": "python",
   "pygments_lexer": "ipython3",
   "version": "3.8.10"
  },
  "orig_nbformat": 4
 },
 "nbformat": 4,
 "nbformat_minor": 2
}
