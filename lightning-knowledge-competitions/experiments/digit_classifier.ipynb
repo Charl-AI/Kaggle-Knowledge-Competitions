{
 "cells": [
  {
   "cell_type": "markdown",
   "metadata": {},
   "source": [
    "# MNIST Digit Classifier"
   ]
  },
  {
   "cell_type": "code",
   "execution_count": 1,
   "metadata": {},
   "outputs": [
    {
     "name": "stdout",
     "output_type": "stream",
     "text": [
      "/data2/Kaggle-Knowledge-Competitions\n"
     ]
    }
   ],
   "source": [
    "# This cell assumes a project structure of: project-root/src/experiments/this_notebook.ipynb\n",
    "# We append the parent directory to the system path, so now we can import modules from src\n",
    "# We also create a variable named path which points to the project root.\n",
    "\n",
    "import sys\n",
    "from pathlib import Path\n",
    "\n",
    "sys.path.append(\"../\") # go to parent dir\n",
    "path =  str(Path().resolve().parent.parent)\n",
    "\n",
    "print(path)\n"
   ]
  },
  {
   "cell_type": "markdown",
   "metadata": {},
   "source": [
    "Train the model and generate predictions with the trained model. Logging is done with TensorBoard, you can view them by running `tensorboard --logdir logs` on the command line. The model checkpoints are not saved in this example, although it shouldn't be an issue because it is pretty quick to train an MNIST classifier so you can always retrain it again."
   ]
  },
  {
   "cell_type": "code",
   "execution_count": 2,
   "metadata": {},
   "outputs": [
    {
     "name": "stderr",
     "output_type": "stream",
     "text": [
      "Using native 16bit precision.\n",
      "GPU available: True, used: True\n",
      "TPU available: False, using: 0 TPU cores\n",
      "IPU available: False, using: 0 IPUs\n",
      "LOCAL_RANK: 0 - CUDA_VISIBLE_DEVICES: [0]\n",
      "\n",
      "  | Name | Type     | Params\n",
      "----------------------------------\n",
      "0 | net  | ResNet18 | 11.2 M\n",
      "----------------------------------\n",
      "11.2 M    Trainable params\n",
      "0         Non-trainable params\n",
      "11.2 M    Total params\n",
      "44.701    Total estimated model params size (MB)\n"
     ]
    },
    {
     "data": {
      "application/vnd.jupyter.widget-view+json": {
       "model_id": "8881690529684010908de16b3b1cace8",
       "version_major": 2,
       "version_minor": 0
      },
      "text/plain": [
       "Validation sanity check: 0it [00:00, ?it/s]"
      ]
     },
     "metadata": {},
     "output_type": "display_data"
    },
    {
     "data": {
      "application/vnd.jupyter.widget-view+json": {
       "model_id": "a80b1ea5061349999cba36d2c2250731",
       "version_major": 2,
       "version_minor": 0
      },
      "text/plain": [
       "Training: -1it [00:00, ?it/s]"
      ]
     },
     "metadata": {},
     "output_type": "display_data"
    },
    {
     "data": {
      "application/vnd.jupyter.widget-view+json": {
       "model_id": "e99aa3875f6048f28e54e99ef8c835cb",
       "version_major": 2,
       "version_minor": 0
      },
      "text/plain": [
       "Validating: 0it [00:00, ?it/s]"
      ]
     },
     "metadata": {},
     "output_type": "display_data"
    },
    {
     "data": {
      "application/vnd.jupyter.widget-view+json": {
       "model_id": "102c19d9de9c42c1b7832b89ece501bb",
       "version_major": 2,
       "version_minor": 0
      },
      "text/plain": [
       "Validating: 0it [00:00, ?it/s]"
      ]
     },
     "metadata": {},
     "output_type": "display_data"
    },
    {
     "data": {
      "application/vnd.jupyter.widget-view+json": {
       "model_id": "2993ccbec69742d5bfdcbf0a29aec366",
       "version_major": 2,
       "version_minor": 0
      },
      "text/plain": [
       "Validating: 0it [00:00, ?it/s]"
      ]
     },
     "metadata": {},
     "output_type": "display_data"
    },
    {
     "data": {
      "application/vnd.jupyter.widget-view+json": {
       "model_id": "59c0f4371a684f1da671d9e466097ecb",
       "version_major": 2,
       "version_minor": 0
      },
      "text/plain": [
       "Validating: 0it [00:00, ?it/s]"
      ]
     },
     "metadata": {},
     "output_type": "display_data"
    },
    {
     "data": {
      "application/vnd.jupyter.widget-view+json": {
       "model_id": "821710c47fc847058cf09e7e4cd4386c",
       "version_major": 2,
       "version_minor": 0
      },
      "text/plain": [
       "Validating: 0it [00:00, ?it/s]"
      ]
     },
     "metadata": {},
     "output_type": "display_data"
    },
    {
     "data": {
      "application/vnd.jupyter.widget-view+json": {
       "model_id": "d48d7827aa3541239337ebda4dbf1e52",
       "version_major": 2,
       "version_minor": 0
      },
      "text/plain": [
       "Validating: 0it [00:00, ?it/s]"
      ]
     },
     "metadata": {},
     "output_type": "display_data"
    },
    {
     "data": {
      "application/vnd.jupyter.widget-view+json": {
       "model_id": "dba1613fb49c49698047a827955df9cb",
       "version_major": 2,
       "version_minor": 0
      },
      "text/plain": [
       "Validating: 0it [00:00, ?it/s]"
      ]
     },
     "metadata": {},
     "output_type": "display_data"
    },
    {
     "data": {
      "application/vnd.jupyter.widget-view+json": {
       "model_id": "33e326a187344c11bc05cd39d95feab5",
       "version_major": 2,
       "version_minor": 0
      },
      "text/plain": [
       "Validating: 0it [00:00, ?it/s]"
      ]
     },
     "metadata": {},
     "output_type": "display_data"
    },
    {
     "data": {
      "application/vnd.jupyter.widget-view+json": {
       "model_id": "3cec1e382d104db4b7e766a753e9dbc0",
       "version_major": 2,
       "version_minor": 0
      },
      "text/plain": [
       "Validating: 0it [00:00, ?it/s]"
      ]
     },
     "metadata": {},
     "output_type": "display_data"
    },
    {
     "data": {
      "application/vnd.jupyter.widget-view+json": {
       "model_id": "adc0002e25ee4665ad1b1cde48c9c820",
       "version_major": 2,
       "version_minor": 0
      },
      "text/plain": [
       "Validating: 0it [00:00, ?it/s]"
      ]
     },
     "metadata": {},
     "output_type": "display_data"
    },
    {
     "name": "stderr",
     "output_type": "stream",
     "text": [
      "/data2/Kaggle-Knowledge-Competitions/venv/lib/python3.8/site-packages/pytorch_lightning/core/datamodule.py:423: LightningDeprecationWarning: DataModule.prepare_data has already been called, so it will not be called again. In v1.6 this behavior will change to always call DataModule.prepare_data.\n",
      "  rank_zero_deprecation(\n",
      "LOCAL_RANK: 0 - CUDA_VISIBLE_DEVICES: [0]\n"
     ]
    },
    {
     "data": {
      "application/vnd.jupyter.widget-view+json": {
       "model_id": "3fc2597d43e341b9983a2d567c4c9a74",
       "version_major": 2,
       "version_minor": 0
      },
      "text/plain": [
       "Predicting: 132it [00:00, ?it/s]"
      ]
     },
     "metadata": {},
     "output_type": "display_data"
    }
   ],
   "source": [
    "import pytorch_lightning as pl\n",
    "from models.digit_classifier import MNISTClassifierModule\n",
    "from datasets.kaggle_mnist import KaggleMNISTDataModule\n",
    "from pytorch_lightning.loggers import TensorBoardLogger\n",
    "\n",
    "logger = TensorBoardLogger(save_dir=path, version=1, name=\"logs\")\n",
    "\n",
    "model = MNISTClassifierModule(learning_rate=0.01)\n",
    "\n",
    "# might have to change batch size and num_workers depending on your hardware\n",
    "data = KaggleMNISTDataModule(data_dir=path+\"/data/kaggle_mnist\",\n",
    "                            batch_size=256,\n",
    "                            num_workers=4)\n",
    "\n",
    "trainer = pl.Trainer(default_root_dir=path,\n",
    "                    max_epochs=10,\n",
    "                    gpus=1,\n",
    "                    precision=16,\n",
    "                    logger=logger,\n",
    "                    checkpoint_callback=False,\n",
    "                    log_every_n_steps=100,\n",
    "                    )\n",
    "trainer.fit(model, data)\n",
    "\n",
    "data.setup()\n",
    "raw_test_predictions = trainer.predict(model, data.test_dataloader())"
   ]
  },
  {
   "cell_type": "markdown",
   "metadata": {},
   "source": [
    "Our raw prediction is currently a list of tuples representing the predictions for each batch. We want to turn this into two tensors, each the length of the test set."
   ]
  },
  {
   "cell_type": "code",
   "execution_count": 10,
   "metadata": {},
   "outputs": [],
   "source": [
    "import torch\n",
    "\n",
    "def unpack_predictions(predictions):\n",
    "    \"\"\"Takes the output of trainer.predict and unpacks it into a tuple of two tensors\n",
    "    over the data set:\n",
    "        (imgs, predictions)\n",
    "    \"\"\"\n",
    "    # predictions start as list of tuples (prediction tensor, label tensor, colour tensor), of length num_batches.\n",
    "    # each tensor is 1D with length batch_size.\n",
    "    # we want to convert this to two tensors which are the length of the val/test set.\n",
    "    unpacked_imgs = torch.Tensor().to(predictions[0][0].device)\n",
    "    unpacked_predictions = torch.Tensor().to(predictions[0][0].device)\n",
    "    for batch in predictions:\n",
    "        imgs, preds = batch\n",
    "        unpacked_predictions = torch.cat([unpacked_predictions, preds], dim=0)\n",
    "        unpacked_imgs = torch.cat([unpacked_imgs, imgs], dim=0)\n",
    "\n",
    "    return  unpacked_imgs, unpacked_predictions\n",
    "\n",
    "predictions = unpack_predictions(raw_test_predictions)"
   ]
  },
  {
   "cell_type": "markdown",
   "metadata": {},
   "source": [
    "Now, lets sanity check our predictions to see if they're reasonable:"
   ]
  },
  {
   "cell_type": "code",
   "execution_count": 12,
   "metadata": {},
   "outputs": [
    {
     "name": "stdout",
     "output_type": "stream",
     "text": [
      "8\n",
      "4\n",
      "0\n",
      "7\n",
      "3\n",
      "8\n",
      "4\n",
      "1\n",
      "2\n",
      "3\n"
     ]
    },
    {
     "data": {
      "image/png": "[encoded data removed]",
      "text/plain": [
       "<Figure size 720x360 with 10 Axes>"
      ]
     },
     "metadata": {
      "needs_background": "light"
     },
     "output_type": "display_data"
    }
   ],
   "source": [
    "import matplotlib.pyplot as plt\n",
    "import random\n",
    "\n",
    "imgs, preds = predictions\n",
    "imgs = imgs.squeeze().detach().cpu().numpy()\n",
    "preds = preds.int().squeeze().detach().cpu().numpy()\n",
    "\n",
    "nrows=2\n",
    "ncols=5\n",
    "fig, axs = plt.subplots(nrows=nrows, ncols=ncols,figsize=(10,5))\n",
    "\n",
    "for i in range(nrows):\n",
    "    for j in range(ncols):\n",
    "        k = random.randint(0,28000)\n",
    "        axs[i,j].imshow(imgs[k],cmap=\"gray\")\n",
    "        print(preds[k])\n"
   ]
  },
  {
   "cell_type": "markdown",
   "metadata": {},
   "source": [
    "Finally, save our predictions in the format for Kaggle submission. You can submit by running the following line:\n",
    "```bash\n",
    "# submits preds.csv to the mnist classification competition\n",
    "kaggle competitions submit -c digit-recognizer -f data/kaggle_mnist/preds.csv --message first_submission_with_api"
   ]
  },
  {
   "cell_type": "code",
   "execution_count": 13,
   "metadata": {},
   "outputs": [],
   "source": [
    "import pandas as pd\n",
    "df = pd.DataFrame({\"ImageId\" : list(range(1, 28001)),\"Label\" : preds})\n",
    "df.to_csv(path+\"/data/kaggle_mnist/preds.csv\", index=False)"
   ]
  }
 ],
 "metadata": {
  "interpreter": {
   "hash": "fbf7f804df088307e97e62d933cb62b93da59f5af49da0e68cca6c12b68e1ce1"
  },
  "kernelspec": {
   "display_name": "Python 3.8.10 64-bit ('venv': venv)",
   "language": "python",
   "name": "python3"
  },
  "language_info": {
   "codemirror_mode": {
    "name": "ipython",
    "version": 3
   },
   "file_extension": ".py",
   "mimetype": "text/x-python",
   "name": "python",
   "nbconvert_exporter": "python",
   "pygments_lexer": "ipython3",
   "version": "3.8.10"
  },
  "orig_nbformat": 4
 },
 "nbformat": 4,
 "nbformat_minor": 2
}
