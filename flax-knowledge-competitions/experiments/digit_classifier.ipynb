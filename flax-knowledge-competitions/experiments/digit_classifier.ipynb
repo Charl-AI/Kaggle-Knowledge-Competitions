{
 "cells": [
  {
   "cell_type": "markdown",
   "metadata": {},
   "source": [
    "# MNIST Digit Classifier"
   ]
  },
  {
   "cell_type": "code",
   "execution_count": 1,
   "metadata": {},
   "outputs": [
    {
     "name": "stdout",
     "output_type": "stream",
     "text": [
      "/workspaces/Kaggle-Knowledge-Competitions\n"
     ]
    }
   ],
   "source": [
    "# This cell assumes a project structure of: project-root/src/experiments/this_notebook.ipynb\n",
    "# We append the parent directory to the system path, so now we can import modules from src\n",
    "# We also create a variable named path which points to the project root.\n",
    "\n",
    "import sys\n",
    "from pathlib import Path\n",
    "\n",
    "sys.path.append(\"../\") # go to parent dir\n",
    "path =  str(Path().resolve().parent.parent)\n",
    "\n",
    "print(path)\n"
   ]
  },
  {
   "cell_type": "markdown",
   "metadata": {},
   "source": [
    "When using JAX in notebooks, it's nice to disable GPU memory preallocation"
   ]
  },
  {
   "cell_type": "code",
   "execution_count": 2,
   "metadata": {},
   "outputs": [
    {
     "name": "stdout",
     "output_type": "stream",
     "text": [
      "env: XLA_PYTHON_CLIENT_PREALLOCATE=false\n"
     ]
    }
   ],
   "source": [
    "%env XLA_PYTHON_CLIENT_PREALLOCATE=false"
   ]
  },
  {
   "cell_type": "markdown",
   "metadata": {},
   "source": [
    "Class of configurations (consider using Hydra for heavier workloads in future):"
   ]
  },
  {
   "cell_type": "code",
   "execution_count": 6,
   "metadata": {},
   "outputs": [],
   "source": [
    "from dataclasses import dataclass, asdict\n",
    "\n",
    "@dataclass\n",
    "class Configurations:\n",
    "    data_dir: str = path + \"/data/kaggle_mnist\"\n",
    "    batch_size: int = 64\n",
    "    num_workers: int = 0\n",
    "    pin_memory: bool = False\n",
    "    drop_last: bool = True\n",
    "\n",
    "    lr: float = 0.01\n",
    "    momentum: float = 0.9\n",
    "\n",
    "    num_epochs: int = 5\n",
    "\n",
    "    log_dir: str = path + \"/logs/flax-digit-classifier\"\n",
    "    log_every_n_steps: int = 50\n",
    "\n",
    "cfg = Configurations()"
   ]
  },
  {
   "cell_type": "code",
   "execution_count": 7,
   "metadata": {},
   "outputs": [
    {
     "data": {
      "text/plain": [
       "(64, 28, 28, 1)"
      ]
     },
     "execution_count": 7,
     "metadata": {},
     "output_type": "execute_result"
    }
   ],
   "source": [
    "import os\n",
    "import jax\n",
    "from torch.utils.data import random_split\n",
    "import torch\n",
    "\n",
    "from datasets.kaggle_mnist import KaggleMNIST, NumpyLoader\n",
    "\n",
    "data = KaggleMNIST(data_dir=cfg.data_dir, train=True, transform=None)\n",
    "\n",
    "g = torch.Generator()\n",
    "g.manual_seed(0)\n",
    "\n",
    "n_val = int(len(data) * 0.2)\n",
    "n_train = len(data) - n_val\n",
    "train_data, val_data = random_split(data, [n_train, n_val], generator=g)\n",
    "\n",
    "train_loader = NumpyLoader(\n",
    "    train_data,\n",
    "    shuffle=True,\n",
    "    batch_size=cfg.batch_size,\n",
    "    num_workers=cfg.num_workers,\n",
    "    pin_memory=cfg.pin_memory,\n",
    "    drop_last=cfg.drop_last,\n",
    ")\n",
    "\n",
    "val_loader = NumpyLoader(\n",
    "    val_data,\n",
    "    shuffle=False,\n",
    "    batch_size=cfg.batch_size,\n",
    "    num_workers=cfg.num_workers,\n",
    "    pin_memory=cfg.pin_memory,\n",
    "    drop_last=cfg.drop_last,\n",
    ")\n",
    "\n",
    "batch = next(iter(train_loader))\n",
    "batch_imgs, batch_labels = batch\n",
    "batch_imgs.shape\n"
   ]
  },
  {
   "cell_type": "code",
   "execution_count": 8,
   "metadata": {},
   "outputs": [
    {
     "name": "stderr",
     "output_type": "stream",
     "text": [
      "Epoch 0, train: 100%|██████████| 525/525 [00:10<00:00, 49.30it/s] \n",
      "Epoch 0, val: 100%|██████████| 131/131 [00:01<00:00, 123.00it/s]\n",
      "Epoch 1, train: 100%|██████████| 525/525 [00:04<00:00, 120.33it/s]\n",
      "Epoch 1, val: 100%|██████████| 131/131 [00:00<00:00, 387.49it/s]\n",
      "Epoch 2, train: 100%|██████████| 525/525 [00:04<00:00, 122.59it/s]\n",
      "Epoch 2, val: 100%|██████████| 131/131 [00:00<00:00, 367.03it/s]\n",
      "Epoch 3, train: 100%|██████████| 525/525 [00:04<00:00, 124.95it/s]\n",
      "Epoch 3, val: 100%|██████████| 131/131 [00:00<00:00, 415.25it/s]\n",
      "Epoch 4, train: 100%|██████████| 525/525 [00:04<00:00, 131.00it/s]\n",
      "Epoch 4, val: 100%|██████████| 131/131 [00:00<00:00, 346.69it/s]\n"
     ]
    }
   ],
   "source": [
    "from trainer.digit_classifier_trainer import train_digit_classifier\n",
    "from models.digit_classifier import ResNet18\n",
    "import optax\n",
    "from clu import metric_writers\n",
    "import socket\n",
    "from datetime import datetime\n",
    "\n",
    "model = ResNet18(num_classes=10)\n",
    "optimizer = optax.sgd(cfg.lr, cfg.momentum)\n",
    "\n",
    "current_time = datetime.now().strftime('%b%d_%H-%M-%S')\n",
    "log_dir = os.path.join(\n",
    "                cfg.log_dir, current_time + '_' + socket.gethostname())\n",
    "\n",
    "logger = metric_writers.create_default_writer(log_dir, )\n",
    "\n",
    "trained_state = train_digit_classifier(\n",
    "    42,\n",
    "    model,\n",
    "    train_loader,\n",
    "    val_loader,\n",
    "    num_epochs=cfg.num_epochs,\n",
    "    optimizer=optimizer,\n",
    "    logger=logger,\n",
    "    log_every_n_steps=cfg.log_every_n_steps,\n",
    ")"
   ]
  },
  {
   "cell_type": "code",
   "execution_count": null,
   "metadata": {},
   "outputs": [
    {
     "name": "stderr",
     "output_type": "stream",
     "text": [
      "Generating Predictions on Test Set: 100%|██████████| 438/438 [00:02<00:00, 214.79it/s]\n"
     ]
    }
   ],
   "source": [
    "from trainer.digit_classifier_trainer import test_digit_classifier\n",
    "\n",
    "data = KaggleMNIST(data_dir=cfg.data_dir, train=False, transform=None)\n",
    "test_loader = NumpyLoader(\n",
    "    data,\n",
    "    shuffle=False,\n",
    "    batch_size=cfg.batch_size,\n",
    "    num_workers=cfg.num_workers,\n",
    ")\n",
    "\n",
    "imgs, preds = test_digit_classifier(trained_state, test_loader)"
   ]
  },
  {
   "cell_type": "code",
   "execution_count": null,
   "metadata": {},
   "outputs": [
    {
     "name": "stdout",
     "output_type": "stream",
     "text": [
      "7\n",
      "5\n",
      "1\n",
      "5\n",
      "8\n",
      "0\n",
      "1\n",
      "6\n",
      "6\n",
      "8\n"
     ]
    },
    {
     "data": {
      "image/png": "[encoded data removed]",
      "text/plain": [
       "<Figure size 720x360 with 10 Axes>"
      ]
     },
     "metadata": {
      "needs_background": "light"
     },
     "output_type": "display_data"
    }
   ],
   "source": [
    "import matplotlib.pyplot as plt\n",
    "import random\n",
    "\n",
    "imgs = imgs.squeeze()\n",
    "\n",
    "nrows=2\n",
    "ncols=5\n",
    "fig, axs = plt.subplots(nrows=nrows, ncols=ncols,figsize=(10,5))\n",
    "\n",
    "for i in range(nrows):\n",
    "    for j in range(ncols):\n",
    "        k = random.randint(0,28000)\n",
    "        axs[i,j].imshow(imgs[k],cmap=\"gray\")\n",
    "        print(preds[k])"
   ]
  },
  {
   "cell_type": "markdown",
   "metadata": {},
   "source": [
    "Finally, save our predictions in the format for Kaggle submission. You can submit by running the following line:\n",
    "```bash\n",
    "# submits preds.csv to the mnist classification competition\n",
    "kaggle competitions submit -c digit-recognizer -f data/kaggle_mnist/preds.csv --message first_submission_with_api\n",
    "```"
   ]
  },
  {
   "cell_type": "code",
   "execution_count": null,
   "metadata": {},
   "outputs": [],
   "source": [
    "import pandas as pd\n",
    "df = pd.DataFrame({\"ImageId\" : list(range(1, 28001)),\"Label\" : preds})\n",
    "df.to_csv(path+\"/data/kaggle_mnist/preds.csv\", index=False)"
   ]
  }
 ],
 "metadata": {
  "interpreter": {
   "hash": "23393d2575091a37cff0d0e9e7479591a295495b26c3b2ebf9b64da572e02d85"
  },
  "kernelspec": {
   "display_name": "Python 3.8.10 64-bit ('venv': venv)",
   "language": "python",
   "name": "python3"
  },
  "language_info": {
   "codemirror_mode": {
    "name": "ipython",
    "version": 3
   },
   "file_extension": ".py",
   "mimetype": "text/x-python",
   "name": "python",
   "nbconvert_exporter": "python",
   "pygments_lexer": "ipython3",
   "version": "3.8.10"
  },
  "orig_nbformat": 4
 },
 "nbformat": 4,
 "nbformat_minor": 2
}
