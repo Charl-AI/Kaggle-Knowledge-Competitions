{
 "cells": [
  {
   "cell_type": "markdown",
   "metadata": {},
   "source": [
    "# MNIST Digit Classifier"
   ]
  },
  {
   "cell_type": "code",
   "execution_count": 1,
   "metadata": {},
   "outputs": [
    {
     "name": "stdout",
     "output_type": "stream",
     "text": [
      "/workspaces/Kaggle-Knowledge-Competitions\n"
     ]
    }
   ],
   "source": [
    "# This cell assumes a project structure of: project-root/src/experiments/this_notebook.ipynb\n",
    "# We append the parent directory to the system path, so now we can import modules from src\n",
    "# We also create a variable named path which points to the project root.\n",
    "\n",
    "import sys\n",
    "from pathlib import Path\n",
    "\n",
    "sys.path.append(\"../\") # go to parent dir\n",
    "path =  str(Path().resolve().parent.parent)\n",
    "\n",
    "print(path)\n"
   ]
  },
  {
   "cell_type": "markdown",
   "metadata": {},
   "source": [
    "Class of configurations (consider using Hydra for heavier workloads in future):"
   ]
  },
  {
   "cell_type": "code",
   "execution_count": 2,
   "metadata": {},
   "outputs": [],
   "source": [
    "from dataclasses import dataclass\n",
    "\n",
    "@dataclass\n",
    "class Configurations:\n",
    "    data_dir: str = path + \"/data/kaggle_mnist\"\n",
    "    batch_size: int = 64\n",
    "    num_workers: int = 4\n",
    "    pin_memory: bool = True\n",
    "\n",
    "    lr: float = 0.01\n",
    "    momentum: float = 0.9\n",
    "\n",
    "    num_epochs: int = 5\n",
    "\n",
    "    log_dir: str = path + \"/logs/flax-digit-classifier\"\n",
    "    log_every_n_steps: int = 50\n",
    "\n",
    "cfg = Configurations()"
   ]
  },
  {
   "cell_type": "code",
   "execution_count": 3,
   "metadata": {},
   "outputs": [],
   "source": [
    "import os\n",
    "import jax\n",
    "from torch.utils.data import DataLoader, random_split\n",
    "from torch.utils.tensorboard.writer import SummaryWriter\n",
    "\n",
    "from trainer.digit_classifier_trainer import train_digit_classifier\n",
    "from datasets.kaggle_mnist import KaggleMNIST\n",
    "from models.digit_classifier import ResNet18\n",
    "\n",
    "import socket\n",
    "from datetime import datetime\n",
    "current_time = datetime.now().strftime('%b%d_%H-%M-%S')\n",
    "log_dir = os.path.join(\n",
    "                cfg.log_dir, current_time + '_' + socket.gethostname())\n",
    "\n",
    "model = ResNet18(num_classes=10)\n",
    "data = KaggleMNIST(data_dir=cfg.data_dir, train=True, transform=None)\n",
    "logger = SummaryWriter(log_dir=log_dir)\n",
    "\n",
    "n_val = int(len(data) * 0.2)\n",
    "n_train = len(data) - n_val\n",
    "train_data, val_data = random_split(data, [n_train, n_val])\n",
    "\n",
    "train_loader = DataLoader(\n",
    "    train_data,\n",
    "    shuffle=True,\n",
    "    batch_size=cfg.batch_size,\n",
    "    num_workers=cfg.num_workers,\n",
    "    pin_memory=cfg.pin_memory,\n",
    ")\n",
    "\n",
    "val_loader = DataLoader(\n",
    "    val_data,\n",
    "    shuffle=False,\n",
    "    batch_size=cfg.batch_size,\n",
    "    num_workers=cfg.num_workers,\n",
    "    pin_memory=cfg.pin_memory,\n",
    ")\n",
    "\n",
    "train_digit_classifier(\n",
    "    model,\n",
    "    train_loader,\n",
    "    val_loader,\n",
    "    jax.random.PRNGKey(0),\n",
    "    cfg.lr,\n",
    "    cfg.momentum,\n",
    "    num_epochs=cfg.num_epochs,\n",
    "    logger=logger,\n",
    "    log_every_n_steps=cfg.log_every_n_steps,\n",
    ")"
   ]
  },
  {
   "cell_type": "code",
   "execution_count": null,
   "metadata": {},
   "outputs": [],
   "source": []
  }
 ],
 "metadata": {
  "interpreter": {
   "hash": "23393d2575091a37cff0d0e9e7479591a295495b26c3b2ebf9b64da572e02d85"
  },
  "kernelspec": {
   "display_name": "Python 3.8.10 64-bit ('venv': venv)",
   "language": "python",
   "name": "python3"
  },
  "language_info": {
   "codemirror_mode": {
    "name": "ipython",
    "version": 3
   },
   "file_extension": ".py",
   "mimetype": "text/x-python",
   "name": "python",
   "nbconvert_exporter": "python",
   "pygments_lexer": "ipython3",
   "version": "3.8.10"
  },
  "orig_nbformat": 4
 },
 "nbformat": 4,
 "nbformat_minor": 2
}
